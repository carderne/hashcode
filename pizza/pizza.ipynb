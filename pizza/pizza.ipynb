{
 "cells": [
  {
   "cell_type": "markdown",
   "metadata": {},
   "source": [
    "## Imports"
   ]
  },
  {
   "cell_type": "code",
   "execution_count": null,
   "metadata": {},
   "outputs": [],
   "source": [
    "from pathlib import Path\n",
    "\n",
    "import numpy as np\n",
    "import matplotlib.pyplot as plt"
   ]
  },
  {
   "cell_type": "markdown",
   "metadata": {},
   "source": [
    "## Read and display data"
   ]
  },
  {
   "cell_type": "code",
   "execution_count": null,
   "metadata": {},
   "outputs": [],
   "source": [
    "challenge = 'd_big.in'\n",
    "file_in = Path(challenge)\n",
    "file_out = Path(challenge.split('.')[0] + '.out')"
   ]
  },
  {
   "cell_type": "code",
   "execution_count": null,
   "metadata": {},
   "outputs": [],
   "source": [
    "with file_in.open(mode='r') as f:\n",
    "    params = f.readline().replace('\\n', '').split(' ')\n",
    "    rows = int(params[0])\n",
    "    cols = int(params[1])\n",
    "    min_ing = int(params[2])\n",
    "    max_cel = int(params[3])\n",
    "    lines = []\n",
    "    for line in f:\n",
    "        row = []\n",
    "        for char in line:\n",
    "            if char == 'M':\n",
    "                row.append(0)\n",
    "            elif char == 'T':\n",
    "                row.append(1)\n",
    "        lines.append(row)"
   ]
  },
  {
   "cell_type": "code",
   "execution_count": null,
   "metadata": {},
   "outputs": [],
   "source": [
    "print('Rows:', rows)\n",
    "print('Cols:', cols)\n",
    "print('Min ingredient:', min_ing)\n",
    "print('Max cells:', max_cel)\n",
    "pizza = np.array(lines)\n",
    "print(pizza)"
   ]
  },
  {
   "cell_type": "markdown",
   "metadata": {},
   "source": [
    "## Lots of useful functions"
   ]
  },
  {
   "cell_type": "code",
   "execution_count": null,
   "metadata": {},
   "outputs": [],
   "source": [
    "def display_two(*arrs, cmaps, text=False):\n",
    "    \"\"\"Display two implots next to each other.\"\"\"\n",
    "    fig, axes = plt.subplots(1, len(arrs), figsize=(15,10))\n",
    "    for ax, arr, cmap in zip(axes, arrs, cmaps):\n",
    "        ax.imshow(arr, cmap=cmap)\n",
    "        if text:\n",
    "            for (j,i),label in np.ndenumerate(arr):\n",
    "                ax.text(i,j,f'{label:.2f}',ha='center',va='center', color='black')"
   ]
  },
  {
   "cell_type": "code",
   "execution_count": null,
   "metadata": {},
   "outputs": [],
   "source": [
    "def get_locs(r1, c1, r2, c2):\n",
    "    \"\"\"Get ndarray locations of given bounds.\"\"\"\n",
    "    rs = []\n",
    "    cs = []\n",
    "    for r in range(r1, r2+1):\n",
    "        for c in range(c1, c2+1):\n",
    "            rs.append(r)\n",
    "            cs.append(c)\n",
    "            \n",
    "    return rs, cs"
   ]
  },
  {
   "cell_type": "code",
   "execution_count": null,
   "metadata": {},
   "outputs": [],
   "source": [
    "def get_size(r1, c1, r2, c2):\n",
    "    \"\"\"Get the size of this slice.\"\"\"\n",
    "    return (r2 + 1 - r1) * (c2 + 1 - c1)"
   ]
  },
  {
   "cell_type": "code",
   "execution_count": null,
   "metadata": {},
   "outputs": [],
   "source": [
    "def get_count(sli):\n",
    "    \"\"\"Calculate how many of each ingredient are in this slice.\"\"\"\n",
    "    count={0: 0, 1: 0}\n",
    "    locs = get_locs(*sli)\n",
    "    for r, c in zip(locs[0], locs[1]):\n",
    "        count[pizza[(r, c)]] += 1\n",
    "        \n",
    "    return count"
   ]
  },
  {
   "cell_type": "code",
   "execution_count": null,
   "metadata": {},
   "outputs": [],
   "source": [
    "def get_num_done(sli):\n",
    "    \"\"\"How many of this slice have already been marked done.\"\"\"\n",
    "    return np.sum(done[get_locs(*sli)] == 1)"
   ]
  },
  {
   "cell_type": "code",
   "execution_count": null,
   "metadata": {},
   "outputs": [],
   "source": [
    "def get_prog(sli):\n",
    "    \"\"\"How many of the required ingredients does this slice have.\"\"\"\n",
    "    count = get_count(sli)\n",
    "    return max(min_ing - count[0], 0) + max(min_ing - count[1], 0)"
   ]
  },
  {
   "cell_type": "code",
   "execution_count": null,
   "metadata": {},
   "outputs": [],
   "source": [
    "def large(sli):\n",
    "    \"\"\"Is this slice below size (0), exactly max size (1) or too big (2).\"\"\"\n",
    "    size = get_size(*sli)\n",
    "    if size < max_cel:\n",
    "        return 0\n",
    "    elif size == max_cel:\n",
    "        return 1\n",
    "    elif size > max_cel:\n",
    "        return 2"
   ]
  },
  {
   "cell_type": "code",
   "execution_count": null,
   "metadata": {},
   "outputs": [],
   "source": [
    "def enough(sli):\n",
    "    \"\"\"Does this slice have enough of every ingredient.\"\"\"\n",
    "    count = get_count(sli)\n",
    "    return min(tuple(count.values())) >= min_ing"
   ]
  },
  {
   "cell_type": "code",
   "execution_count": null,
   "metadata": {},
   "outputs": [],
   "source": [
    "def increment(r1, c1, r2, c2, opt):\n",
    "    \"\"\"Increment/decrement the specified corner of the slice.\"\"\"\n",
    "    if opt == 0:\n",
    "        r1 -= 1 if r1 > 0 else 0\n",
    "    elif opt == 1:\n",
    "        c1 -= 1 if c1 > 0 else 0\n",
    "    elif opt == 2:\n",
    "        r2 += 1 if r2 < rows-1 else 0\n",
    "    elif opt == 3:\n",
    "        c2 += 1 if c2 < cols-1 else 0\n",
    "    else:\n",
    "        raise ValueError\n",
    "        \n",
    "    return r1, c1, r2, c2"
   ]
  },
  {
   "cell_type": "markdown",
   "metadata": {},
   "source": [
    "## Actualy doing things"
   ]
  },
  {
   "cell_type": "code",
   "execution_count": null,
   "metadata": {},
   "outputs": [],
   "source": [
    "def expand(sli, fill=False):\n",
    "    \"\"\"Find the most useful single expansion for this slice.\n",
    "    \n",
    "    When fill=False, slices will only grow until they have enough ingredients.\n",
    "    With fill=True, slices will continue to grow until the upper limit.\n",
    "    \"\"\"\n",
    "    \n",
    "    # if the slice already has enough ingredients\n",
    "    # or if the slice is already at max size\n",
    "    change = False\n",
    "    if not large(sli) and not (enough(sli) and not fill):\n",
    "        num_done = get_num_done(sli)\n",
    "        best_improve = 0\n",
    "        prog = get_prog(sli)\n",
    "        for opt in range(4):\n",
    "            new = increment(*sli, opt)\n",
    "\n",
    "            # if this new would result in too-large slice\n",
    "            # or it treads onto cells already marked done\n",
    "            # or it's the same cells\n",
    "            if large(new) == 2 or get_num_done(new) > num_done or new == sli:\n",
    "                continue\n",
    "\n",
    "            # To make sure we don't do nothing, add the first\n",
    "            # reasonable increase as our 'best'\n",
    "            if not change:\n",
    "                best = opt\n",
    "                change = True\n",
    "\n",
    "            # If this addition improves our progress more than the previos best\n",
    "            improve = prog - get_prog(new)\n",
    "            if improve > best_improve:\n",
    "                best = opt\n",
    "                change = True\n",
    "\n",
    "    # If something has changed, make that experiment permanent and return\n",
    "    if change:\n",
    "        sli = increment(*sli, best)\n",
    "    return change, sli"
   ]
  },
  {
   "cell_type": "markdown",
   "metadata": {},
   "source": [
    "This function goes through the pizza, creating new slices as it goes, but not making them bigger than they need to be to satisfy the min_ingredients requirement."
   ]
  },
  {
   "cell_type": "code",
   "execution_count": null,
   "metadata": {
    "scrolled": true
   },
   "outputs": [],
   "source": [
    "slices = {}\n",
    "done = np.zeros_like(pizza)\n",
    "tried = np.zeros_like(pizza)\n",
    "\n",
    "last_progress = 0\n",
    "tot = rows * cols\n",
    "\n",
    "count = 0\n",
    "# While there undone or untried cells \n",
    "while np.sum(done == 0) > 1 and np.sum(tried == 0) > 0:\n",
    "    \n",
    "    # Find the next untried cell\n",
    "    not_done = np.where(tried == 0)\n",
    "    r, c = not_done[0][0], not_done[1][0]\n",
    "    sli = r, c, r, c\n",
    "    \n",
    "    while True:\n",
    "        # Get the new slice, and whether it has changed\n",
    "        change, sli = expand(sli)\n",
    "        if change and enough(sli):  # If this slice has enough ingredients\n",
    "            slices[count] = sli  # Add it to the official list\n",
    "            done[get_locs(*sli)] = 1  # And mark that cell as done\n",
    "            count += 1\n",
    "            break\n",
    "            \n",
    "        elif not change:  # Otherwise we move on\n",
    "            count += 1\n",
    "            break\n",
    "    \n",
    "    # Whether or not these slices achieved anything, add the starting point to tried\n",
    "    tried[get_locs(r, c, r, c)] = 1\n",
    "    tried += done\n",
    "\n",
    "    # Print progress every 10%\n",
    "    progress = int(100 * (tot - np.sum(tried == 0))/tot)\n",
    "    if progress >= last_progress + 10:\n",
    "        print(progress, '%')\n",
    "        last_progress = progress"
   ]
  },
  {
   "cell_type": "markdown",
   "metadata": {},
   "source": [
    "Then we go back to the beginning, and try to expand each created slice as much as possible."
   ]
  },
  {
   "cell_type": "code",
   "execution_count": null,
   "metadata": {},
   "outputs": [],
   "source": [
    "print('Expanding slices')\n",
    "for key, sli in slices.items():\n",
    "    while True:\n",
    "        # with fill=True, the algorithm expands as much as it can\n",
    "        change, sli = expand(sli, fill=True)\n",
    "        if change and enough(sli):\n",
    "            slices[key] = sli\n",
    "            done[get_locs(*sli)] = 1\n",
    "        else:\n",
    "            break"
   ]
  },
  {
   "cell_type": "code",
   "execution_count": null,
   "metadata": {},
   "outputs": [],
   "source": [
    "# Create a sliced pizza, with each slice getting a unique value\n",
    "out = np.ones_like(pizza) * -1\n",
    "for key, value in slices.items():\n",
    "    locs = get_locs(*value)\n",
    "    out[locs] = key"
   ]
  },
  {
   "cell_type": "code",
   "execution_count": null,
   "metadata": {},
   "outputs": [],
   "source": [
    "display_two(pizza, out, cmaps=['Paired', 'tab20'])"
   ]
  },
  {
   "cell_type": "code",
   "execution_count": null,
   "metadata": {},
   "outputs": [],
   "source": [
    "score = np.sum(done == 1)\n",
    "print(score, 'of max', rows*cols)\n",
    "print(f'{100*score/(rows*cols):.0f} %')"
   ]
  },
  {
   "cell_type": "code",
   "execution_count": null,
   "metadata": {},
   "outputs": [],
   "source": [
    "with file_out.open('w') as f:\n",
    "    print(len(slices), file=f)\n",
    "    for _, value in slices.items():\n",
    "        print(*value, file=f)"
   ]
  },
  {
   "cell_type": "code",
   "execution_count": null,
   "metadata": {},
   "outputs": [],
   "source": []
  }
 ],
 "metadata": {
  "kernelspec": {
   "display_name": "Python 3 (gridfinder)",
   "language": "python",
   "name": "gridfinder"
  },
  "language_info": {
   "codemirror_mode": {
    "name": "ipython",
    "version": 3
   },
   "file_extension": ".py",
   "mimetype": "text/x-python",
   "name": "python",
   "nbconvert_exporter": "python",
   "pygments_lexer": "ipython3",
   "version": "3.6.7"
  }
 },
 "nbformat": 4,
 "nbformat_minor": 2
}
