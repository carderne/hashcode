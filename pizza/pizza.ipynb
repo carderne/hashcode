{
 "cells": [
  {
   "cell_type": "markdown",
   "metadata": {},
   "source": [
    "## Imports"
   ]
  },
  {
   "cell_type": "code",
   "execution_count": 1,
   "metadata": {},
   "outputs": [],
   "source": [
    "from pathlib import Path\n",
    "\n",
    "import numpy as np\n",
    "import matplotlib.pyplot as plt"
   ]
  },
  {
   "cell_type": "markdown",
   "metadata": {},
   "source": [
    "## Read and display data"
   ]
  },
  {
   "cell_type": "code",
   "execution_count": 2,
   "metadata": {},
   "outputs": [],
   "source": [
    "path_a = Path('b_small.in')"
   ]
  },
  {
   "cell_type": "code",
   "execution_count": 3,
   "metadata": {},
   "outputs": [],
   "source": [
    "with path_a.open(mode='r') as f:\n",
    "    params = f.readline().replace('\\n', '').split(' ')\n",
    "    rows = int(params[0])\n",
    "    cols = int(params[1])\n",
    "    min_ing = int(params[2])\n",
    "    max_cel = int(params[3])\n",
    "    lines = []\n",
    "    for line in f:\n",
    "        row = []\n",
    "        for char in line:\n",
    "            if char == 'M':\n",
    "                row.append(0)\n",
    "            elif char == 'T':\n",
    "                row.append(1)\n",
    "        lines.append(row)"
   ]
  },
  {
   "cell_type": "code",
   "execution_count": 4,
   "metadata": {},
   "outputs": [
    {
     "name": "stdout",
     "output_type": "stream",
     "text": [
      "Rows: 6\n",
      "Cols: 7\n",
      "Min ingredient: 1\n",
      "Max cells: 5\n",
      "[[1 0 0 0 1 1 1]\n",
      " [0 0 0 0 1 0 0]\n",
      " [1 1 0 1 1 0 1]\n",
      " [1 0 0 1 0 0 0]\n",
      " [1 1 1 1 1 1 0]\n",
      " [1 1 1 1 1 1 0]]\n"
     ]
    }
   ],
   "source": [
    "print('Rows:', rows)\n",
    "print('Cols:', cols)\n",
    "print('Min ingredient:', min_ing)\n",
    "print('Max cells:', max_cel)\n",
    "pizza = np.array(lines)\n",
    "print(pizza)"
   ]
  },
  {
   "cell_type": "markdown",
   "metadata": {},
   "source": [
    "## Lots of useful functions"
   ]
  },
  {
   "cell_type": "code",
   "execution_count": 5,
   "metadata": {},
   "outputs": [],
   "source": [
    "def display_two(*arrs, cmaps):\n",
    "    fig, axes = plt.subplots(1, len(arrs), figsize=(15,10))\n",
    "    for ax, arr, cmap in zip(axes, arrs, cmaps):\n",
    "        ax.imshow(arr, cmap=cmap)\n",
    "        for (j,i),label in np.ndenumerate(arr):\n",
    "            ax.text(i,j,f'{label:.2f}',ha='center',va='center', color='black')"
   ]
  },
  {
   "cell_type": "code",
   "execution_count": 6,
   "metadata": {},
   "outputs": [],
   "source": [
    "def get_num_done(r1, c1, r2, c2):\n",
    "    return np.sum(done[get_locs(r1, c1, r2, c2)] == 1)"
   ]
  },
  {
   "cell_type": "code",
   "execution_count": 7,
   "metadata": {},
   "outputs": [],
   "source": [
    "def get_prog(r1, c1, r2, c2):\n",
    "    count = get_count(r1, c1, r2, c2)\n",
    "    return max(min_ing - count[0], 0) + max(min_ing - count[1], 0)"
   ]
  },
  {
   "cell_type": "code",
   "execution_count": 8,
   "metadata": {},
   "outputs": [],
   "source": [
    "def large(r1, c1, r2, c2):\n",
    "    size = get_size(r1, c1, r2, c2)\n",
    "    if size < max_cel:\n",
    "        return 0\n",
    "    elif size == max_cel:\n",
    "        return 1\n",
    "    elif size > max_cel:\n",
    "        return 2"
   ]
  },
  {
   "cell_type": "code",
   "execution_count": 9,
   "metadata": {},
   "outputs": [],
   "source": [
    "def enough(r1, c1, r2, c2):\n",
    "    count = get_count(r1, c1, r2, c2)\n",
    "    return min(tuple(count.values())) >= min_ing"
   ]
  },
  {
   "cell_type": "code",
   "execution_count": 10,
   "metadata": {},
   "outputs": [],
   "source": [
    "def increment(r1, c1, r2, c2, opt):\n",
    "    if opt == 0:\n",
    "        r1 -= 1 if r1 > 0 else 0\n",
    "    elif opt == 1:\n",
    "        c1 -= 1 if c1 > 0 else 0\n",
    "    elif opt == 2:\n",
    "        r2 += 1 if r2 < rows-1 else 0\n",
    "    elif opt == 3:\n",
    "        c2 += 1 if c2 < cols-1 else 0\n",
    "    else:\n",
    "        raise ValueError\n",
    "        \n",
    "    return r1, c1, r2, c2"
   ]
  },
  {
   "cell_type": "code",
   "execution_count": 11,
   "metadata": {},
   "outputs": [],
   "source": [
    "def get_count(r1, c1, r2, c2):\n",
    "    count={0: 0, 1: 0}\n",
    "    locs = get_locs(r1, c1, r2, c2)\n",
    "    for r, c in zip(locs[0], locs[1]):\n",
    "        count[pizza[(r, c)]] += 1\n",
    "        \n",
    "    return count"
   ]
  },
  {
   "cell_type": "code",
   "execution_count": 12,
   "metadata": {},
   "outputs": [],
   "source": [
    "def get_size(r1, c1, r2, c2):\n",
    "    return (r2 + 1 - r1) * (c2 + 1 - c1)"
   ]
  },
  {
   "cell_type": "code",
   "execution_count": 13,
   "metadata": {},
   "outputs": [],
   "source": [
    "def get_locs(r1, c1, r2, c2):\n",
    "    rs = []\n",
    "    cs = []\n",
    "    for r in range(r1, r2+1):\n",
    "        for c in range(c1, c2+1):\n",
    "            rs.append(r)\n",
    "            cs.append(c)\n",
    "            \n",
    "    return rs, cs"
   ]
  },
  {
   "cell_type": "markdown",
   "metadata": {},
   "source": [
    "## Actualy doing things"
   ]
  },
  {
   "cell_type": "code",
   "execution_count": 14,
   "metadata": {},
   "outputs": [],
   "source": [
    "def expand(r1, c1, r2, c2, fill=False):\n",
    "    if enough(r1, c1, r2, c2) and not fill:\n",
    "        return False\n",
    "    if large(r1, c1, r2, c2):\n",
    "        return False\n",
    "\n",
    "    num_done = get_num_done(r1, c1, r2, c2)\n",
    "    \n",
    "    change = False\n",
    "    best_improve = 0\n",
    "    prog = get_prog(r1, c1, r2, c2)\n",
    "    for opt in range(4):\n",
    "        r1t, c1t, r2t, c2t = increment(r1, c1, r2, c2, opt)\n",
    "        if large(r1t, c1t, r2t, c2t) == 2:\n",
    "            continue\n",
    "        if get_num_done(r1t, c1t, r2t, c2t) > num_done:\n",
    "            continue\n",
    "        if not change and (r1t, c1t, r2t, c2t) != (r1, c1, r2, c2):\n",
    "            best = opt\n",
    "            change = True\n",
    "        \n",
    "        count = get_count(r1t, c1t, r2t, c2t)\n",
    "        improve = prog - get_prog(r1t, c1t, r2t, c2t)\n",
    "\n",
    "        if improve > best_improve:\n",
    "            best = opt\n",
    "            change = True\n",
    "            \n",
    "    if change:\n",
    "        r1, c1, r2, c2 = increment(r1, c1, r2, c2, best)\n",
    "        return r1, c1, r2, c2\n",
    "    else:\n",
    "        return False"
   ]
  },
  {
   "cell_type": "code",
   "execution_count": 15,
   "metadata": {
    "scrolled": true
   },
   "outputs": [
    {
     "name": "stdout",
     "output_type": "stream",
     "text": [
      "(0, 0, 0, 0)  ->  (0, 0, 0, 1)\n",
      "Expanding\n",
      "SLICE (0, 0, 0, 1)\n",
      "(0, 0, 0, 1)  ->  False\n",
      "Not expanding\n",
      "Changes, no fill\n",
      "(0, 2, 0, 2)  ->  (0, 2, 1, 2)\n",
      "Expanding\n",
      "(0, 2, 1, 2)  ->  (0, 2, 2, 2)\n",
      "Expanding\n",
      "(0, 2, 2, 2)  ->  (0, 2, 3, 2)\n",
      "Expanding\n",
      "(0, 2, 3, 2)  ->  (0, 2, 4, 2)\n",
      "Expanding\n",
      "SLICE (0, 2, 4, 2)\n",
      "(0, 2, 4, 2)  ->  False\n",
      "Not expanding\n",
      "Changes, no fill\n",
      "(0, 3, 0, 3)  ->  (0, 3, 0, 4)\n",
      "Expanding\n",
      "SLICE (0, 3, 0, 4)\n",
      "(0, 3, 0, 4)  ->  False\n",
      "Not expanding\n",
      "Changes, no fill\n",
      "(0, 5, 0, 5)  ->  (0, 5, 1, 5)\n",
      "Expanding\n",
      "SLICE (0, 5, 1, 5)\n",
      "(0, 5, 1, 5)  ->  False\n",
      "Not expanding\n",
      "Changes, no fill\n",
      "(0, 6, 0, 6)  ->  (0, 6, 1, 6)\n",
      "Expanding\n",
      "SLICE (0, 6, 1, 6)\n",
      "(0, 6, 1, 6)  ->  False\n",
      "Not expanding\n",
      "Changes, no fill\n",
      "(1, 0, 1, 0)  ->  (1, 0, 2, 0)\n",
      "Expanding\n",
      "SLICE (1, 0, 2, 0)\n",
      "(1, 0, 2, 0)  ->  False\n",
      "Not expanding\n",
      "Changes, no fill\n",
      "(1, 1, 1, 1)  ->  (1, 1, 2, 1)\n",
      "Expanding\n",
      "SLICE (1, 1, 2, 1)\n",
      "(1, 1, 2, 1)  ->  False\n",
      "Not expanding\n",
      "Changes, no fill\n",
      "(1, 3, 1, 3)  ->  (1, 3, 1, 4)\n",
      "Expanding\n",
      "SLICE (1, 3, 1, 4)\n",
      "(1, 3, 1, 4)  ->  False\n",
      "Not expanding\n",
      "Changes, no fill\n",
      "(2, 3, 2, 3)  ->  (2, 3, 3, 3)\n",
      "Expanding\n",
      "(2, 3, 3, 3)  ->  (2, 3, 3, 4)\n",
      "Expanding\n",
      "SLICE (2, 3, 3, 4)\n",
      "(2, 3, 3, 4)  ->  False\n",
      "Not expanding\n",
      "Changes, no fill\n",
      "(2, 5, 2, 5)  ->  (2, 5, 2, 6)\n",
      "Expanding\n",
      "SLICE (2, 5, 2, 6)\n",
      "(2, 5, 2, 6)  ->  False\n",
      "Not expanding\n",
      "Changes, no fill\n",
      "(3, 0, 3, 0)  ->  (3, 0, 3, 1)\n",
      "Expanding\n",
      "SLICE (3, 0, 3, 1)\n",
      "(3, 0, 3, 1)  ->  False\n",
      "Not expanding\n",
      "Changes, no fill\n",
      "(3, 5, 3, 5)  ->  (3, 5, 4, 5)\n",
      "Expanding\n",
      "SLICE (3, 5, 4, 5)\n",
      "(3, 5, 4, 5)  ->  False\n",
      "Not expanding\n",
      "Changes, no fill\n",
      "(3, 6, 3, 6)  ->  (3, 6, 4, 6)\n",
      "Expanding\n",
      "(3, 6, 4, 6)  ->  (3, 6, 5, 6)\n",
      "Expanding\n",
      "(3, 6, 5, 6)  ->  False\n",
      "Not expanding\n",
      "Skip to FILL mode\n",
      "(0, 0, 0, 1)  ->  False\n",
      "Not expanding\n",
      "Done\n"
     ]
    }
   ],
   "source": [
    "start = 0, 0, 0, 0\n",
    "slices = {}\n",
    "count = 0\n",
    "done = np.zeros_like(pizza)\n",
    "fill = False\n",
    "\n",
    "while np.sum(done == 0) > 1:\n",
    "    changed = False\n",
    "    while True:\n",
    "        res = expand(*start, fill)\n",
    "        print(start, ' -> ', res)\n",
    "        if res:\n",
    "            print('Expanding')\n",
    "            if enough(*res):\n",
    "                slices[count] = res\n",
    "                done[get_locs(*res)] = 1\n",
    "                changed = True\n",
    "                print('SLICE', res)\n",
    "                start = res\n",
    "            else:\n",
    "                start = res\n",
    "        else:\n",
    "            count += 1\n",
    "            print('Not expanding')\n",
    "            break\n",
    "    \n",
    "    if changed:\n",
    "        if not fill:\n",
    "            print('Changes, no fill')\n",
    "            not_done = np.where(done == 0)\n",
    "            r, c = not_done[0][0], not_done[1][0]\n",
    "            start = r, c, r, c\n",
    "        else:\n",
    "            print('Changes, YES fill')\n",
    "            if count < len(slices):\n",
    "                start = slices[count]\n",
    "            else:\n",
    "                print('Done')\n",
    "                break\n",
    "        \n",
    "    elif not fill:\n",
    "        print('Skip to FILL mode')\n",
    "        fill = True\n",
    "        count = 0\n",
    "        start = slices[count]\n",
    "    else:\n",
    "        print('Done')\n",
    "        break"
   ]
  },
  {
   "cell_type": "code",
   "execution_count": 16,
   "metadata": {},
   "outputs": [],
   "source": [
    "out = np.ones_like(pizza) * -1\n",
    "for key, value in slices.items():\n",
    "    locs = get_locs(*value)\n",
    "    out[locs] = key"
   ]
  },
  {
   "cell_type": "code",
   "execution_count": 17,
   "metadata": {},
   "outputs": [
    {
     "data": {
      "image/png": "[encoded data removed]",
      "text/plain": [
       "<Figure size 1080x720 with 2 Axes>"
      ]
     },
     "metadata": {
      "needs_background": "light"
     },
     "output_type": "display_data"
    }
   ],
   "source": [
    "display_two(pizza, out, cmaps=['Paired', 'tab20'])"
   ]
  }
 ],
 "metadata": {
  "kernelspec": {
   "display_name": "Python 3 (gridfinder)",
   "language": "python",
   "name": "gridfinder"
  },
  "language_info": {
   "codemirror_mode": {
    "name": "ipython",
    "version": 3
   },
   "file_extension": ".py",
   "mimetype": "text/x-python",
   "name": "python",
   "nbconvert_exporter": "python",
   "pygments_lexer": "ipython3",
   "version": "3.6.7"
  }
 },
 "nbformat": 4,
 "nbformat_minor": 2
}
