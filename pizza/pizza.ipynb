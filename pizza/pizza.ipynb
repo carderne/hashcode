{
 "cells": [
  {
   "cell_type": "markdown",
   "metadata": {},
   "source": [
    "## Imports"
   ]
  },
  {
   "cell_type": "code",
   "execution_count": null,
   "metadata": {},
   "outputs": [],
   "source": [
    "from pathlib import Path\n",
    "\n",
    "import numpy as np\n",
    "import matplotlib.pyplot as plt"
   ]
  },
  {
   "cell_type": "markdown",
   "metadata": {},
   "source": [
    "## Read and display data"
   ]
  },
  {
   "cell_type": "code",
   "execution_count": null,
   "metadata": {},
   "outputs": [],
   "source": [
    "challenge = 'd_big.in'\n",
    "file_in = Path(challenge)\n",
    "file_out = Path(challenge.split('.')[0] + '.out')"
   ]
  },
  {
   "cell_type": "code",
   "execution_count": null,
   "metadata": {},
   "outputs": [],
   "source": [
    "with file_in.open(mode='r') as f:\n",
    "    params = f.readline().replace('\\n', '').split(' ')\n",
    "    rows = int(params[0])\n",
    "    cols = int(params[1])\n",
    "    min_ing = int(params[2])\n",
    "    max_cel = int(params[3])\n",
    "    lines = []\n",
    "    for line in f:\n",
    "        row = []\n",
    "        for char in line:\n",
    "            if char == 'M':\n",
    "                row.append(0)\n",
    "            elif char == 'T':\n",
    "                row.append(1)\n",
    "        lines.append(row)"
   ]
  },
  {
   "cell_type": "code",
   "execution_count": null,
   "metadata": {},
   "outputs": [],
   "source": [
    "print('Rows:', rows)\n",
    "print('Cols:', cols)\n",
    "print('Min ingredient:', min_ing)\n",
    "print('Max cells:', max_cel)\n",
    "pizza = np.array(lines)\n",
    "print(pizza)"
   ]
  },
  {
   "cell_type": "markdown",
   "metadata": {},
   "source": [
    "## Lots of useful functions"
   ]
  },
  {
   "cell_type": "code",
   "execution_count": null,
   "metadata": {},
   "outputs": [],
   "source": [
    "def display_two(*arrs, cmaps, text=False):\n",
    "    fig, axes = plt.subplots(1, len(arrs), figsize=(15,10))\n",
    "    for ax, arr, cmap in zip(axes, arrs, cmaps):\n",
    "        ax.imshow(arr, cmap=cmap)\n",
    "        if text:\n",
    "            for (j,i),label in np.ndenumerate(arr):\n",
    "                ax.text(i,j,f'{label:.2f}',ha='center',va='center', color='black')"
   ]
  },
  {
   "cell_type": "code",
   "execution_count": null,
   "metadata": {},
   "outputs": [],
   "source": [
    "def get_locs(r1, c1, r2, c2):\n",
    "    rs = []\n",
    "    cs = []\n",
    "    for r in range(r1, r2+1):\n",
    "        for c in range(c1, c2+1):\n",
    "            rs.append(r)\n",
    "            cs.append(c)\n",
    "            \n",
    "    return rs, cs"
   ]
  },
  {
   "cell_type": "code",
   "execution_count": null,
   "metadata": {},
   "outputs": [],
   "source": [
    "def get_size(r1, c1, r2, c2):\n",
    "    return (r2 + 1 - r1) * (c2 + 1 - c1)"
   ]
  },
  {
   "cell_type": "code",
   "execution_count": null,
   "metadata": {},
   "outputs": [],
   "source": [
    "def get_count(r1, c1, r2, c2):\n",
    "    count={0: 0, 1: 0}\n",
    "    locs = get_locs(r1, c1, r2, c2)\n",
    "    for r, c in zip(locs[0], locs[1]):\n",
    "        count[pizza[(r, c)]] += 1\n",
    "        \n",
    "    return count"
   ]
  },
  {
   "cell_type": "code",
   "execution_count": null,
   "metadata": {},
   "outputs": [],
   "source": [
    "def get_num_done(r1, c1, r2, c2):\n",
    "    return np.sum(done[get_locs(r1, c1, r2, c2)] == 1)"
   ]
  },
  {
   "cell_type": "code",
   "execution_count": null,
   "metadata": {},
   "outputs": [],
   "source": [
    "def get_prog(r1, c1, r2, c2):\n",
    "    count = get_count(r1, c1, r2, c2)\n",
    "    return max(min_ing - count[0], 0) + max(min_ing - count[1], 0)"
   ]
  },
  {
   "cell_type": "code",
   "execution_count": null,
   "metadata": {},
   "outputs": [],
   "source": [
    "def large(r1, c1, r2, c2):\n",
    "    size = get_size(r1, c1, r2, c2)\n",
    "    if size < max_cel:\n",
    "        return 0\n",
    "    elif size == max_cel:\n",
    "        return 1\n",
    "    elif size > max_cel:\n",
    "        return 2"
   ]
  },
  {
   "cell_type": "code",
   "execution_count": null,
   "metadata": {},
   "outputs": [],
   "source": [
    "def enough(r1, c1, r2, c2):\n",
    "    count = get_count(r1, c1, r2, c2)\n",
    "    return min(tuple(count.values())) >= min_ing"
   ]
  },
  {
   "cell_type": "code",
   "execution_count": null,
   "metadata": {},
   "outputs": [],
   "source": [
    "def increment(r1, c1, r2, c2, opt):\n",
    "    if opt == 0:\n",
    "        r1 -= 1 if r1 > 0 else 0\n",
    "    elif opt == 1:\n",
    "        c1 -= 1 if c1 > 0 else 0\n",
    "    elif opt == 2:\n",
    "        r2 += 1 if r2 < rows-1 else 0\n",
    "    elif opt == 3:\n",
    "        c2 += 1 if c2 < cols-1 else 0\n",
    "    else:\n",
    "        raise ValueError\n",
    "        \n",
    "    return r1, c1, r2, c2"
   ]
  },
  {
   "cell_type": "markdown",
   "metadata": {},
   "source": [
    "## Actualy doing things"
   ]
  },
  {
   "cell_type": "code",
   "execution_count": null,
   "metadata": {},
   "outputs": [],
   "source": [
    "def expand(r1, c1, r2, c2, fill=False):\n",
    "    if enough(r1, c1, r2, c2) and not fill:\n",
    "        return False\n",
    "    if large(r1, c1, r2, c2):\n",
    "        return False\n",
    "\n",
    "    num_done = get_num_done(r1, c1, r2, c2)\n",
    "    \n",
    "    change = False\n",
    "    best_improve = 0\n",
    "    prog = get_prog(r1, c1, r2, c2)\n",
    "    for opt in range(4):\n",
    "        r1t, c1t, r2t, c2t = increment(r1, c1, r2, c2, opt)\n",
    "        if large(r1t, c1t, r2t, c2t) == 2:\n",
    "            continue\n",
    "        if get_num_done(r1t, c1t, r2t, c2t) > num_done:\n",
    "            continue\n",
    "        if not change and (r1t, c1t, r2t, c2t) != (r1, c1, r2, c2):\n",
    "            best = opt\n",
    "            change = True\n",
    "        \n",
    "        count = get_count(r1t, c1t, r2t, c2t)\n",
    "        improve = prog - get_prog(r1t, c1t, r2t, c2t)\n",
    "\n",
    "        if improve > best_improve:\n",
    "            best = opt\n",
    "            change = True\n",
    "            \n",
    "    if change:\n",
    "        r1, c1, r2, c2 = increment(r1, c1, r2, c2, best)\n",
    "        return r1, c1, r2, c2\n",
    "    else:\n",
    "        return False"
   ]
  },
  {
   "cell_type": "code",
   "execution_count": null,
   "metadata": {
    "scrolled": true
   },
   "outputs": [],
   "source": [
    "start = 0, 0, 0, 0\n",
    "slices = {}\n",
    "count = 0\n",
    "done = np.zeros_like(pizza)\n",
    "tried = np.zeros_like(pizza)\n",
    "fill = False\n",
    "\n",
    "while np.sum(done == 0) > 1:\n",
    "    changed = False\n",
    "    while True:\n",
    "        res = expand(*start, fill)\n",
    "#         print(start, ' -> ', res)\n",
    "        if res:\n",
    "#             print('Expanding')\n",
    "            if enough(*res):\n",
    "                slices[count] = res\n",
    "                done[get_locs(*res)] = 1\n",
    "                changed = True\n",
    "#                 print('SLICE', res)\n",
    "                start = res\n",
    "            else:\n",
    "                start = res\n",
    "        else:\n",
    "            count += 1\n",
    "#             print('Not expanding')\n",
    "            break\n",
    "    \n",
    "    if changed:\n",
    "        if not fill:\n",
    "#             print('Changes, no fill')\n",
    "            not_done = np.where(done == 0)\n",
    "            r, c = not_done[0][0], not_done[1][0]\n",
    "            start = r, c, r, c\n",
    "        else:\n",
    "#             print('Changes, YES fill')\n",
    "            if count < len(slices):\n",
    "                start = slices[count]\n",
    "            else:\n",
    "#                 print('Done')\n",
    "                break\n",
    "        \n",
    "    else:\n",
    "        tried[get_locs(*start)] = 1\n",
    "        test = tried + done\n",
    "        print('UNTRIED', np.sum(test == 0))\n",
    "        if np.sum(test == 0) == 0:\n",
    "            if fill:\n",
    "#                 print('Done')\n",
    "                break\n",
    "            else:\n",
    "#                 print('Skip to FILL mode')\n",
    "                fill = True\n",
    "                count = 0\n",
    "                start = slices[count]\n",
    "        else:\n",
    "            not_done = np.where(test == 0)\n",
    "            r, c = not_done[0][0], not_done[1][0]\n",
    "            start = r, c, r, c"
   ]
  },
  {
   "cell_type": "code",
   "execution_count": null,
   "metadata": {},
   "outputs": [],
   "source": [
    "out = np.ones_like(pizza) * -1\n",
    "for key, value in slices.items():\n",
    "    locs = get_locs(*value)\n",
    "    out[locs] = key"
   ]
  },
  {
   "cell_type": "code",
   "execution_count": null,
   "metadata": {},
   "outputs": [],
   "source": [
    "display_two(pizza, out, cmaps=['Paired', 'tab20'])"
   ]
  },
  {
   "cell_type": "code",
   "execution_count": null,
   "metadata": {},
   "outputs": [],
   "source": [
    "score = np.sum(done == 1)\n",
    "print(score, 'of max', rows*cols)\n",
    "print(f'{100*score/(rows*cols):.0f} %')"
   ]
  },
  {
   "cell_type": "code",
   "execution_count": null,
   "metadata": {},
   "outputs": [],
   "source": [
    "with file_out.open('w') as f:\n",
    "    print(len(slices), file=f)\n",
    "    for _, value in slices.items():\n",
    "        print(*value, file=f)"
   ]
  },
  {
   "cell_type": "code",
   "execution_count": null,
   "metadata": {},
   "outputs": [],
   "source": []
  }
 ],
 "metadata": {
  "kernelspec": {
   "display_name": "Python 3 (gridfinder)",
   "language": "python",
   "name": "gridfinder"
  },
  "language_info": {
   "codemirror_mode": {
    "name": "ipython",
    "version": 3
   },
   "file_extension": ".py",
   "mimetype": "text/x-python",
   "name": "python",
   "nbconvert_exporter": "python",
   "pygments_lexer": "ipython3",
   "version": "3.6.7"
  }
 },
 "nbformat": 4,
 "nbformat_minor": 2
}
